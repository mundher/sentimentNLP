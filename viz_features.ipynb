{
 "cells": [
  {
   "cell_type": "code",
   "execution_count": 1,
   "metadata": {
    "collapsed": true
   },
   "outputs": [],
   "source": [
    "import pandas as pd\n",
    "from SentimentAnalyzer import SentimentAnalyzer\n",
    "import matplotlib.pyplot as plt\n",
    "import numpy as np\n",
    "%matplotlib inline\n",
    "plt.style.use('ggplot')"
   ]
  },
  {
   "cell_type": "code",
   "execution_count": 2,
   "metadata": {
    "collapsed": true
   },
   "outputs": [],
   "source": [
    "analyzer = SentimentAnalyzer()"
   ]
  },
  {
   "cell_type": "code",
   "execution_count": 3,
   "metadata": {
    "collapsed": true
   },
   "outputs": [],
   "source": [
    "clf= analyzer.clf\n",
    "vectorizer = analyzer.vectorizer"
   ]
  },
  {
   "cell_type": "code",
   "execution_count": 4,
   "metadata": {
    "collapsed": false
   },
   "outputs": [],
   "source": [
    "names = np.asarray(vectorizer.get_feature_names())\n",
    "w = np.argsort(clf.coef_.squeeze())\n",
    "df = pd.DataFrame({names[v]:[clf.coef_[0,v]] for v in np.append(w[-10:],w[:10])})"
   ]
  },
  {
   "cell_type": "code",
   "execution_count": 5,
   "metadata": {
    "collapsed": false
   },
   "outputs": [
    {
     "data": {
      "text/html": [
       "<div>\n",
       "<table border=\"1\" class=\"dataframe\">\n",
       "  <thead>\n",
       "    <tr style=\"text-align: right;\">\n",
       "      <th></th>\n",
       "      <th>amazing</th>\n",
       "      <th>awful</th>\n",
       "      <th>bad</th>\n",
       "      <th>best</th>\n",
       "      <th>boring</th>\n",
       "      <th>disappointment</th>\n",
       "      <th>dull</th>\n",
       "      <th>enjoyed</th>\n",
       "      <th>excellent</th>\n",
       "      <th>favorite</th>\n",
       "      <th>great</th>\n",
       "      <th>loved</th>\n",
       "      <th>nothing</th>\n",
       "      <th>perfect</th>\n",
       "      <th>poor</th>\n",
       "      <th>today</th>\n",
       "      <th>waste</th>\n",
       "      <th>wonderful</th>\n",
       "      <th>worse</th>\n",
       "      <th>worst</th>\n",
       "    </tr>\n",
       "  </thead>\n",
       "  <tbody>\n",
       "    <tr>\n",
       "      <th>0</th>\n",
       "      <td>2.288223</td>\n",
       "      <td>-3.705157</td>\n",
       "      <td>-3.682326</td>\n",
       "      <td>2.509921</td>\n",
       "      <td>-3.286316</td>\n",
       "      <td>-3.012206</td>\n",
       "      <td>-2.64543</td>\n",
       "      <td>2.234969</td>\n",
       "      <td>3.459219</td>\n",
       "      <td>2.369459</td>\n",
       "      <td>3.53714</td>\n",
       "      <td>2.123969</td>\n",
       "      <td>-2.699906</td>\n",
       "      <td>2.901871</td>\n",
       "      <td>-2.932151</td>\n",
       "      <td>2.274516</td>\n",
       "      <td>-3.439845</td>\n",
       "      <td>2.508598</td>\n",
       "      <td>-2.892577</td>\n",
       "      <td>-4.605617</td>\n",
       "    </tr>\n",
       "  </tbody>\n",
       "</table>\n",
       "</div>"
      ],
      "text/plain": [
       "    amazing     awful       bad      best    boring  disappointment     dull  \\\n",
       "0  2.288223 -3.705157 -3.682326  2.509921 -3.286316       -3.012206 -2.64543   \n",
       "\n",
       "    enjoyed  excellent  favorite    great     loved   nothing   perfect  \\\n",
       "0  2.234969   3.459219  2.369459  3.53714  2.123969 -2.699906  2.901871   \n",
       "\n",
       "       poor     today     waste  wonderful     worse     worst  \n",
       "0 -2.932151  2.274516 -3.439845   2.508598 -2.892577 -4.605617  "
      ]
     },
     "execution_count": 5,
     "metadata": {},
     "output_type": "execute_result"
    }
   ],
   "source": [
    "df"
   ]
  },
  {
   "cell_type": "code",
   "execution_count": 6,
   "metadata": {
    "collapsed": false
   },
   "outputs": [],
   "source": [
    "df = df[df.ix[0].argsort()]"
   ]
  },
  {
   "cell_type": "code",
   "execution_count": 7,
   "metadata": {
    "collapsed": false
   },
   "outputs": [
    {
     "data": {
      "text/html": [
       "<div>\n",
       "<table border=\"1\" class=\"dataframe\">\n",
       "  <thead>\n",
       "    <tr style=\"text-align: right;\">\n",
       "      <th></th>\n",
       "      <th>worst</th>\n",
       "      <th>awful</th>\n",
       "      <th>bad</th>\n",
       "      <th>waste</th>\n",
       "      <th>boring</th>\n",
       "      <th>disappointment</th>\n",
       "      <th>poor</th>\n",
       "      <th>worse</th>\n",
       "      <th>nothing</th>\n",
       "      <th>dull</th>\n",
       "      <th>loved</th>\n",
       "      <th>enjoyed</th>\n",
       "      <th>today</th>\n",
       "      <th>amazing</th>\n",
       "      <th>favorite</th>\n",
       "      <th>wonderful</th>\n",
       "      <th>best</th>\n",
       "      <th>perfect</th>\n",
       "      <th>excellent</th>\n",
       "      <th>great</th>\n",
       "    </tr>\n",
       "  </thead>\n",
       "  <tbody>\n",
       "    <tr>\n",
       "      <th>0</th>\n",
       "      <td>-4.605617</td>\n",
       "      <td>-3.705157</td>\n",
       "      <td>-3.682326</td>\n",
       "      <td>-3.439845</td>\n",
       "      <td>-3.286316</td>\n",
       "      <td>-3.012206</td>\n",
       "      <td>-2.932151</td>\n",
       "      <td>-2.892577</td>\n",
       "      <td>-2.699906</td>\n",
       "      <td>-2.64543</td>\n",
       "      <td>2.123969</td>\n",
       "      <td>2.234969</td>\n",
       "      <td>2.274516</td>\n",
       "      <td>2.288223</td>\n",
       "      <td>2.369459</td>\n",
       "      <td>2.508598</td>\n",
       "      <td>2.509921</td>\n",
       "      <td>2.901871</td>\n",
       "      <td>3.459219</td>\n",
       "      <td>3.53714</td>\n",
       "    </tr>\n",
       "  </tbody>\n",
       "</table>\n",
       "</div>"
      ],
      "text/plain": [
       "      worst     awful       bad     waste    boring  disappointment      poor  \\\n",
       "0 -4.605617 -3.705157 -3.682326 -3.439845 -3.286316       -3.012206 -2.932151   \n",
       "\n",
       "      worse   nothing     dull     loved   enjoyed     today   amazing  \\\n",
       "0 -2.892577 -2.699906 -2.64543  2.123969  2.234969  2.274516  2.288223   \n",
       "\n",
       "   favorite  wonderful      best   perfect  excellent    great  \n",
       "0  2.369459   2.508598  2.509921  2.901871   3.459219  3.53714  "
      ]
     },
     "execution_count": 7,
     "metadata": {},
     "output_type": "execute_result"
    }
   ],
   "source": [
    "df"
   ]
  },
  {
   "cell_type": "code",
   "execution_count": 8,
   "metadata": {
    "collapsed": false
   },
   "outputs": [
    {
     "data": {
      "text/plain": [
       "<matplotlib.axes._subplots.AxesSubplot at 0x382c320>"
      ]
     },
     "execution_count": 8,
     "metadata": {},
     "output_type": "execute_result"
    },
    {
     "data": {
      "image/png": "[encoded data removed]",
      "text/plain": [
       "<matplotlib.figure.Figure at 0xc2f86a0>"
      ]
     },
     "metadata": {},
     "output_type": "display_data"
    }
   ],
   "source": [
    "plt.rcParams['figure.figsize'] = (10, 10)\n",
    "df.ix[0].plot(kind='barh')"
   ]
  },
  {
   "cell_type": "code",
   "execution_count": null,
   "metadata": {
    "collapsed": true
   },
   "outputs": [],
   "source": []
  }
 ],
 "metadata": {
  "kernelspec": {
   "display_name": "Python 2",
   "language": "python",
   "name": "python2"
  },
  "language_info": {
   "codemirror_mode": {
    "name": "ipython",
    "version": 2
   },
   "file_extension": ".py",
   "mimetype": "text/x-python",
   "name": "python",
   "nbconvert_exporter": "python",
   "pygments_lexer": "ipython2",
   "version": "2.7.9"
  }
 },
 "nbformat": 4,
 "nbformat_minor": 0
}
