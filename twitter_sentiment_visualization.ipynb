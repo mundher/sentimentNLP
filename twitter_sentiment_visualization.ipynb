{
 "cells": [
  {
   "cell_type": "code",
   "execution_count": 1,
   "metadata": {
    "collapsed": true
   },
   "outputs": [],
   "source": [
    "import sys\n",
    "import sqlite3\n",
    "import time\n",
    "import ssl\n",
    "import urllib\n",
    "from urlparse import urljoin\n",
    "from urlparse import urlparse\n",
    "import re\n",
    "from datetime import datetime, timedelta\n",
    "import string\n",
    "import zlib\n",
    "import numpy as np\n",
    "import pickle\n",
    "from sklearn.feature_extraction.text import TfidfVectorizer\n",
    "from sklearn.svm import LinearSVC\n",
    "from bs4 import BeautifulSoup\n",
    "import nltk\n",
    "import scipy.sparse as sp\n",
    "import pandas as pd\n",
    "from collections import OrderedDict\n",
    "from datetime import date\n",
    "from SentimentAnalyzer import SentimentAnalyzer\n",
    "import matplotlib.pyplot as plt\n",
    "%matplotlib inline"
   ]
  },
  {
   "cell_type": "code",
   "execution_count": 2,
   "metadata": {
    "collapsed": false
   },
   "outputs": [
    {
     "name": "stdout",
     "output_type": "stream",
     "text": [
      "done @TopHatGamingMan yeah she kind of was coked out of her gourd in star wars.  -  Missouri, USA  -  Thu Dec 29 13:33:54 +0000 2016  -  1333\n"
     ]
    }
   ],
   "source": [
    "tweet = list()\n",
    "location = list()\n",
    "twDate = list()\n",
    "time = list()\n",
    "lan = ('en',)\n",
    "\n",
    "# Open the raw data retrieved from the network\n",
    "conn = sqlite3.connect('starwarsL4.sqlite')\n",
    "conn.text_factory = str\n",
    "cur1 = conn.cursor()\n",
    "for row in cur1.execute('SELECT * FROM Tweets WHERE language =?', lan):\n",
    "    twee = row[1]\n",
    "    tweet.append(twee)\n",
    "    \n",
    "    loc = row[4]\n",
    "    location.append(loc)\n",
    "    \n",
    "    twD = row[5]\n",
    "    twDate.append(twD)\n",
    "    \n",
    "conn = sqlite3.connect('starwarsL5.sqlite')\n",
    "conn.text_factory = str\n",
    "cur2 = conn.cursor()\n",
    "for row1 in cur2.execute('SELECT * FROM Tweets WHERE language =?', lan):\n",
    "    twee = row[1]\n",
    "    tweet.append(twee)\n",
    "    \n",
    "    loc = row[4]\n",
    "    location.append(loc)\n",
    "    \n",
    "    twD = row[5]\n",
    "    twDate.append(twD)\n",
    "    \n",
    "conn = sqlite3.connect('starwarsL6.sqlite')\n",
    "conn.text_factory = str\n",
    "cur3 = conn.cursor()\n",
    "for row2 in cur3.execute('SELECT * FROM Tweets WHERE language =?', lan):\n",
    "    twee = row[1]\n",
    "    tweet.append(twee)\n",
    "    \n",
    "    loc = row[4]\n",
    "    location.append(loc)\n",
    "    \n",
    "    twD = row[5]\n",
    "    twDate.append(twD)\n",
    "    \n",
    "conn = sqlite3.connect('starwarsL7.sqlite')\n",
    "conn.text_factory = str\n",
    "cur4 = conn.cursor()\n",
    "for row3 in cur4.execute('SELECT * FROM Tweets WHERE language =?', lan):\n",
    "    twee = row[1]\n",
    "    tweet.append(twee)\n",
    "    \n",
    "    loc = row[4]\n",
    "    location.append(loc)\n",
    "    \n",
    "    twD = row[5]\n",
    "    twDate.append(twD)\n",
    "    \n",
    "conn = sqlite3.connect('starwarsL8.sqlite')\n",
    "conn.text_factory = str\n",
    "cur5 = conn.cursor()\n",
    "for row4 in cur5.execute('SELECT * FROM Tweets WHERE language =?', lan):\n",
    "    twee = row[1]\n",
    "    tweet.append(twee)\n",
    "    \n",
    "    loc = row[4]\n",
    "    location.append(loc)\n",
    "    \n",
    "    twD = row[5]\n",
    "    twDate.append(twD)\n",
    "    \n",
    "for td in twDate:\n",
    "    dateTime = td.split()\n",
    "    ti = dateTime[3].split(':')\n",
    "    tim = ti[0]+ti[1]\n",
    "    time.append(tim)\n",
    "    \n",
    "for i in range(len(time)):\n",
    "    time[i] = int(time[i])\n",
    "    \n",
    "print \"done\", tweet[0], \" - \", location[0], \" - \", twDate[0], \" - \", time[0]"
   ]
  },
  {
   "cell_type": "code",
   "execution_count": 3,
   "metadata": {
    "collapsed": true
   },
   "outputs": [],
   "source": [
    "res = SentimentAnalyzer().analyzes(tweet)"
   ]
  },
  {
   "cell_type": "code",
   "execution_count": 4,
   "metadata": {
    "collapsed": true
   },
   "outputs": [],
   "source": [
    "CentralDataTW = dict()\n",
    "CentralDataTW[\"Tweets\"] = tweet\n",
    "CentralDataTW[\"Locations\"] = location\n",
    "CentralDataTW[\"Time&date\"] = pd.to_datetime(twDate)\n",
    "CentralDataTW[\"Sentiments\"] = res\n",
    "CentralDataTW[\"Time\"] = time\n",
    "\n",
    "df = pd.DataFrame(CentralDataTW)"
   ]
  },
  {
   "cell_type": "code",
   "execution_count": 5,
   "metadata": {
    "collapsed": false
   },
   "outputs": [
    {
     "data": {
      "text/html": [
       "<div>\n",
       "<table border=\"1\" class=\"dataframe\">\n",
       "  <thead>\n",
       "    <tr style=\"text-align: right;\">\n",
       "      <th></th>\n",
       "      <th>Locations</th>\n",
       "      <th>Sentiments</th>\n",
       "      <th>Time</th>\n",
       "      <th>Time&amp;date</th>\n",
       "      <th>Tweets</th>\n",
       "    </tr>\n",
       "  </thead>\n",
       "  <tbody>\n",
       "    <tr>\n",
       "      <th>0</th>\n",
       "      <td>Missouri, USA</td>\n",
       "      <td>0</td>\n",
       "      <td>1333</td>\n",
       "      <td>2016-12-29 13:33:54</td>\n",
       "      <td>@TopHatGamingMan yeah she kind of was coked ou...</td>\n",
       "    </tr>\n",
       "    <tr>\n",
       "      <th>1</th>\n",
       "      <td>The World Is My Home</td>\n",
       "      <td>0</td>\n",
       "      <td>1333</td>\n",
       "      <td>2016-12-29 13:33:55</td>\n",
       "      <td>RT @AlienFaerie: If they have to replace Carri...</td>\n",
       "    </tr>\n",
       "    <tr>\n",
       "      <th>2</th>\n",
       "      <td>Lille, France</td>\n",
       "      <td>0</td>\n",
       "      <td>1333</td>\n",
       "      <td>2016-12-29 13:33:57</td>\n",
       "      <td>RT @MrFilmkritik: End of 2016 mood: Mads Mikke...</td>\n",
       "    </tr>\n",
       "    <tr>\n",
       "      <th>3</th>\n",
       "      <td>United States</td>\n",
       "      <td>1</td>\n",
       "      <td>1333</td>\n",
       "      <td>2016-12-29 13:33:58</td>\n",
       "      <td>J.J Abrams, the latest “Star Wars” director, j...</td>\n",
       "    </tr>\n",
       "    <tr>\n",
       "      <th>4</th>\n",
       "      <td>U2 안오는 곳</td>\n",
       "      <td>0</td>\n",
       "      <td>1334</td>\n",
       "      <td>2016-12-29 13:34:00</td>\n",
       "      <td>RT @TheIndyFilm: Fans think these two Rogue On...</td>\n",
       "    </tr>\n",
       "  </tbody>\n",
       "</table>\n",
       "</div>"
      ],
      "text/plain": [
       "              Locations  Sentiments  Time           Time&date  \\\n",
       "0         Missouri, USA           0  1333 2016-12-29 13:33:54   \n",
       "1  The World Is My Home           0  1333 2016-12-29 13:33:55   \n",
       "2         Lille, France           0  1333 2016-12-29 13:33:57   \n",
       "3         United States           1  1333 2016-12-29 13:33:58   \n",
       "4              U2 안오는 곳           0  1334 2016-12-29 13:34:00   \n",
       "\n",
       "                                              Tweets  \n",
       "0  @TopHatGamingMan yeah she kind of was coked ou...  \n",
       "1  RT @AlienFaerie: If they have to replace Carri...  \n",
       "2  RT @MrFilmkritik: End of 2016 mood: Mads Mikke...  \n",
       "3  J.J Abrams, the latest “Star Wars” director, j...  \n",
       "4  RT @TheIndyFilm: Fans think these two Rogue On...  "
      ]
     },
     "execution_count": 5,
     "metadata": {},
     "output_type": "execute_result"
    }
   ],
   "source": [
    "df.head()"
   ]
  },
  {
   "cell_type": "code",
   "execution_count": 6,
   "metadata": {
    "collapsed": false
   },
   "outputs": [],
   "source": [
    "dfgroup = df.groupby(['Time']).count()"
   ]
  },
  {
   "cell_type": "code",
   "execution_count": 7,
   "metadata": {
    "collapsed": false
   },
   "outputs": [
    {
     "name": "stdout",
     "output_type": "stream",
     "text": [
      "Populating the interactive namespace from numpy and matplotlib\n"
     ]
    },
    {
     "name": "stderr",
     "output_type": "stream",
     "text": [
      "WARNING: pylab import has clobbered these variables: ['datetime']\n",
      "`%matplotlib` prevents importing * from pylab and numpy\n"
     ]
    }
   ],
   "source": [
    "plt.style.use('ggplot')\n",
    "%pylab inline\n",
    "pylab.rcParams['figure.figsize'] = (16, 10)"
   ]
  },
  {
   "cell_type": "code",
   "execution_count": 27,
   "metadata": {
    "collapsed": false
   },
   "outputs": [
    {
     "data": {
      "text/plain": [
       "<matplotlib.text.Text at 0x1a078400>"
      ]
     },
     "execution_count": 27,
     "metadata": {},
     "output_type": "execute_result"
    },
    {
     "data": {
      "image/png": "[encoded data removed]",
      "text/plain": [
       "<matplotlib.figure.Figure at 0x1aaa0e10>"
      ]
     },
     "metadata": {},
     "output_type": "display_data"
    }
   ],
   "source": [
    "dfgroup['Sentiments'].plot(title=\"Sentiments Over time\",ylim =(0,200))\n",
    "plt.xlabel(\"Time\")\n",
    "plt.ylabel(\"Number of Sentiments\")"
   ]
  },
  {
   "cell_type": "code",
   "execution_count": 8,
   "metadata": {
    "collapsed": false
   },
   "outputs": [],
   "source": [
    "df['negSent'] = 1 - df['Sentiments']"
   ]
  },
  {
   "cell_type": "code",
   "execution_count": 10,
   "metadata": {
    "collapsed": false
   },
   "outputs": [],
   "source": [
    "dfgroup = df.groupby(['Time']).sum()"
   ]
  },
  {
   "cell_type": "code",
   "execution_count": 11,
   "metadata": {
    "collapsed": false
   },
   "outputs": [
    {
     "data": {
      "text/html": [
       "<div>\n",
       "<table border=\"1\" class=\"dataframe\">\n",
       "  <thead>\n",
       "    <tr style=\"text-align: right;\">\n",
       "      <th></th>\n",
       "      <th>Sentiments</th>\n",
       "      <th>negSent</th>\n",
       "    </tr>\n",
       "    <tr>\n",
       "      <th>Time</th>\n",
       "      <th></th>\n",
       "      <th></th>\n",
       "    </tr>\n",
       "  </thead>\n",
       "  <tbody>\n",
       "    <tr>\n",
       "      <th>1333</th>\n",
       "      <td>1</td>\n",
       "      <td>3</td>\n",
       "    </tr>\n",
       "    <tr>\n",
       "      <th>1334</th>\n",
       "      <td>42</td>\n",
       "      <td>31</td>\n",
       "    </tr>\n",
       "    <tr>\n",
       "      <th>1335</th>\n",
       "      <td>32</td>\n",
       "      <td>31</td>\n",
       "    </tr>\n",
       "    <tr>\n",
       "      <th>1336</th>\n",
       "      <td>30</td>\n",
       "      <td>34</td>\n",
       "    </tr>\n",
       "    <tr>\n",
       "      <th>1337</th>\n",
       "      <td>38</td>\n",
       "      <td>20</td>\n",
       "    </tr>\n",
       "    <tr>\n",
       "      <th>1338</th>\n",
       "      <td>37</td>\n",
       "      <td>31</td>\n",
       "    </tr>\n",
       "    <tr>\n",
       "      <th>1339</th>\n",
       "      <td>39</td>\n",
       "      <td>30</td>\n",
       "    </tr>\n",
       "    <tr>\n",
       "      <th>1340</th>\n",
       "      <td>38</td>\n",
       "      <td>32</td>\n",
       "    </tr>\n",
       "    <tr>\n",
       "      <th>1341</th>\n",
       "      <td>28</td>\n",
       "      <td>25</td>\n",
       "    </tr>\n",
       "    <tr>\n",
       "      <th>1342</th>\n",
       "      <td>30</td>\n",
       "      <td>25</td>\n",
       "    </tr>\n",
       "    <tr>\n",
       "      <th>1343</th>\n",
       "      <td>33</td>\n",
       "      <td>32</td>\n",
       "    </tr>\n",
       "    <tr>\n",
       "      <th>1344</th>\n",
       "      <td>41</td>\n",
       "      <td>31</td>\n",
       "    </tr>\n",
       "    <tr>\n",
       "      <th>1345</th>\n",
       "      <td>38</td>\n",
       "      <td>22</td>\n",
       "    </tr>\n",
       "    <tr>\n",
       "      <th>1346</th>\n",
       "      <td>36</td>\n",
       "      <td>17</td>\n",
       "    </tr>\n",
       "    <tr>\n",
       "      <th>1347</th>\n",
       "      <td>29</td>\n",
       "      <td>19</td>\n",
       "    </tr>\n",
       "    <tr>\n",
       "      <th>1348</th>\n",
       "      <td>21</td>\n",
       "      <td>20</td>\n",
       "    </tr>\n",
       "    <tr>\n",
       "      <th>1349</th>\n",
       "      <td>33</td>\n",
       "      <td>17</td>\n",
       "    </tr>\n",
       "    <tr>\n",
       "      <th>1350</th>\n",
       "      <td>42</td>\n",
       "      <td>26</td>\n",
       "    </tr>\n",
       "    <tr>\n",
       "      <th>1351</th>\n",
       "      <td>34</td>\n",
       "      <td>33</td>\n",
       "    </tr>\n",
       "    <tr>\n",
       "      <th>1352</th>\n",
       "      <td>33</td>\n",
       "      <td>32</td>\n",
       "    </tr>\n",
       "    <tr>\n",
       "      <th>1353</th>\n",
       "      <td>36</td>\n",
       "      <td>29</td>\n",
       "    </tr>\n",
       "    <tr>\n",
       "      <th>1354</th>\n",
       "      <td>31</td>\n",
       "      <td>20</td>\n",
       "    </tr>\n",
       "    <tr>\n",
       "      <th>1355</th>\n",
       "      <td>21</td>\n",
       "      <td>20</td>\n",
       "    </tr>\n",
       "    <tr>\n",
       "      <th>1356</th>\n",
       "      <td>35</td>\n",
       "      <td>28</td>\n",
       "    </tr>\n",
       "    <tr>\n",
       "      <th>1357</th>\n",
       "      <td>38</td>\n",
       "      <td>47</td>\n",
       "    </tr>\n",
       "    <tr>\n",
       "      <th>1358</th>\n",
       "      <td>30</td>\n",
       "      <td>28</td>\n",
       "    </tr>\n",
       "    <tr>\n",
       "      <th>1359</th>\n",
       "      <td>19</td>\n",
       "      <td>39</td>\n",
       "    </tr>\n",
       "    <tr>\n",
       "      <th>1400</th>\n",
       "      <td>36</td>\n",
       "      <td>36</td>\n",
       "    </tr>\n",
       "    <tr>\n",
       "      <th>1401</th>\n",
       "      <td>53</td>\n",
       "      <td>25</td>\n",
       "    </tr>\n",
       "    <tr>\n",
       "      <th>1402</th>\n",
       "      <td>52</td>\n",
       "      <td>27</td>\n",
       "    </tr>\n",
       "    <tr>\n",
       "      <th>...</th>\n",
       "      <td>...</td>\n",
       "      <td>...</td>\n",
       "    </tr>\n",
       "    <tr>\n",
       "      <th>1541</th>\n",
       "      <td>50</td>\n",
       "      <td>45</td>\n",
       "    </tr>\n",
       "    <tr>\n",
       "      <th>1542</th>\n",
       "      <td>64</td>\n",
       "      <td>50</td>\n",
       "    </tr>\n",
       "    <tr>\n",
       "      <th>1543</th>\n",
       "      <td>60</td>\n",
       "      <td>64</td>\n",
       "    </tr>\n",
       "    <tr>\n",
       "      <th>1544</th>\n",
       "      <td>50</td>\n",
       "      <td>118</td>\n",
       "    </tr>\n",
       "    <tr>\n",
       "      <th>1545</th>\n",
       "      <td>63</td>\n",
       "      <td>134</td>\n",
       "    </tr>\n",
       "    <tr>\n",
       "      <th>1546</th>\n",
       "      <td>58</td>\n",
       "      <td>67</td>\n",
       "    </tr>\n",
       "    <tr>\n",
       "      <th>1547</th>\n",
       "      <td>58</td>\n",
       "      <td>57</td>\n",
       "    </tr>\n",
       "    <tr>\n",
       "      <th>1548</th>\n",
       "      <td>44</td>\n",
       "      <td>58</td>\n",
       "    </tr>\n",
       "    <tr>\n",
       "      <th>1549</th>\n",
       "      <td>61</td>\n",
       "      <td>62</td>\n",
       "    </tr>\n",
       "    <tr>\n",
       "      <th>1550</th>\n",
       "      <td>59</td>\n",
       "      <td>42</td>\n",
       "    </tr>\n",
       "    <tr>\n",
       "      <th>1551</th>\n",
       "      <td>61</td>\n",
       "      <td>39</td>\n",
       "    </tr>\n",
       "    <tr>\n",
       "      <th>1552</th>\n",
       "      <td>52</td>\n",
       "      <td>43</td>\n",
       "    </tr>\n",
       "    <tr>\n",
       "      <th>1553</th>\n",
       "      <td>61</td>\n",
       "      <td>60</td>\n",
       "    </tr>\n",
       "    <tr>\n",
       "      <th>1554</th>\n",
       "      <td>55</td>\n",
       "      <td>49</td>\n",
       "    </tr>\n",
       "    <tr>\n",
       "      <th>1555</th>\n",
       "      <td>61</td>\n",
       "      <td>58</td>\n",
       "    </tr>\n",
       "    <tr>\n",
       "      <th>1556</th>\n",
       "      <td>67</td>\n",
       "      <td>41</td>\n",
       "    </tr>\n",
       "    <tr>\n",
       "      <th>1557</th>\n",
       "      <td>58</td>\n",
       "      <td>56</td>\n",
       "    </tr>\n",
       "    <tr>\n",
       "      <th>1558</th>\n",
       "      <td>54</td>\n",
       "      <td>52</td>\n",
       "    </tr>\n",
       "    <tr>\n",
       "      <th>1559</th>\n",
       "      <td>66</td>\n",
       "      <td>33</td>\n",
       "    </tr>\n",
       "    <tr>\n",
       "      <th>1600</th>\n",
       "      <td>76</td>\n",
       "      <td>53</td>\n",
       "    </tr>\n",
       "    <tr>\n",
       "      <th>1601</th>\n",
       "      <td>58</td>\n",
       "      <td>43</td>\n",
       "    </tr>\n",
       "    <tr>\n",
       "      <th>1602</th>\n",
       "      <td>51</td>\n",
       "      <td>52</td>\n",
       "    </tr>\n",
       "    <tr>\n",
       "      <th>1603</th>\n",
       "      <td>65</td>\n",
       "      <td>40</td>\n",
       "    </tr>\n",
       "    <tr>\n",
       "      <th>1604</th>\n",
       "      <td>72</td>\n",
       "      <td>33</td>\n",
       "    </tr>\n",
       "    <tr>\n",
       "      <th>1605</th>\n",
       "      <td>49</td>\n",
       "      <td>49</td>\n",
       "    </tr>\n",
       "    <tr>\n",
       "      <th>1606</th>\n",
       "      <td>57</td>\n",
       "      <td>46</td>\n",
       "    </tr>\n",
       "    <tr>\n",
       "      <th>1607</th>\n",
       "      <td>59</td>\n",
       "      <td>57</td>\n",
       "    </tr>\n",
       "    <tr>\n",
       "      <th>1608</th>\n",
       "      <td>40</td>\n",
       "      <td>48</td>\n",
       "    </tr>\n",
       "    <tr>\n",
       "      <th>1609</th>\n",
       "      <td>58</td>\n",
       "      <td>40</td>\n",
       "    </tr>\n",
       "    <tr>\n",
       "      <th>1610</th>\n",
       "      <td>19944</td>\n",
       "      <td>4</td>\n",
       "    </tr>\n",
       "  </tbody>\n",
       "</table>\n",
       "<p>158 rows × 2 columns</p>\n",
       "</div>"
      ],
      "text/plain": [
       "      Sentiments  negSent\n",
       "Time                     \n",
       "1333           1        3\n",
       "1334          42       31\n",
       "1335          32       31\n",
       "1336          30       34\n",
       "1337          38       20\n",
       "1338          37       31\n",
       "1339          39       30\n",
       "1340          38       32\n",
       "1341          28       25\n",
       "1342          30       25\n",
       "1343          33       32\n",
       "1344          41       31\n",
       "1345          38       22\n",
       "1346          36       17\n",
       "1347          29       19\n",
       "1348          21       20\n",
       "1349          33       17\n",
       "1350          42       26\n",
       "1351          34       33\n",
       "1352          33       32\n",
       "1353          36       29\n",
       "1354          31       20\n",
       "1355          21       20\n",
       "1356          35       28\n",
       "1357          38       47\n",
       "1358          30       28\n",
       "1359          19       39\n",
       "1400          36       36\n",
       "1401          53       25\n",
       "1402          52       27\n",
       "...          ...      ...\n",
       "1541          50       45\n",
       "1542          64       50\n",
       "1543          60       64\n",
       "1544          50      118\n",
       "1545          63      134\n",
       "1546          58       67\n",
       "1547          58       57\n",
       "1548          44       58\n",
       "1549          61       62\n",
       "1550          59       42\n",
       "1551          61       39\n",
       "1552          52       43\n",
       "1553          61       60\n",
       "1554          55       49\n",
       "1555          61       58\n",
       "1556          67       41\n",
       "1557          58       56\n",
       "1558          54       52\n",
       "1559          66       33\n",
       "1600          76       53\n",
       "1601          58       43\n",
       "1602          51       52\n",
       "1603          65       40\n",
       "1604          72       33\n",
       "1605          49       49\n",
       "1606          57       46\n",
       "1607          59       57\n",
       "1608          40       48\n",
       "1609          58       40\n",
       "1610       19944        4\n",
       "\n",
       "[158 rows x 2 columns]"
      ]
     },
     "execution_count": 11,
     "metadata": {},
     "output_type": "execute_result"
    }
   ],
   "source": [
    "dfgroup"
   ]
  },
  {
   "cell_type": "code",
   "execution_count": 28,
   "metadata": {
    "collapsed": false
   },
   "outputs": [
    {
     "data": {
      "text/plain": [
       "<matplotlib.legend.Legend at 0x1abe9c88>"
      ]
     },
     "execution_count": 28,
     "metadata": {},
     "output_type": "execute_result"
    },
    {
     "data": {
      "image/png": "[encoded data removed]",
      "text/plain": [
       "<matplotlib.figure.Figure at 0x1128d550>"
      ]
     },
     "metadata": {},
     "output_type": "display_data"
    }
   ],
   "source": [
    "dfgroup.plot(title=\"Positive VS Negative Sentiments Over time\", ylim=(0,200))\n",
    "plt.xlabel(\"Time\")\n",
    "plt.ylabel(\"Number of Sentiments\")\n",
    "plt.legend([\"Positive\",\"Negative\"])"
   ]
  },
  {
   "cell_type": "code",
   "execution_count": 24,
   "metadata": {
    "collapsed": false
   },
   "outputs": [
    {
     "data": {
      "text/html": [
       "<div>\n",
       "<table border=\"1\" class=\"dataframe\">\n",
       "  <thead>\n",
       "    <tr style=\"text-align: right;\">\n",
       "      <th></th>\n",
       "      <th>Sentiments</th>\n",
       "      <th>negSent</th>\n",
       "    </tr>\n",
       "    <tr>\n",
       "      <th>Time</th>\n",
       "      <th></th>\n",
       "      <th></th>\n",
       "    </tr>\n",
       "  </thead>\n",
       "  <tbody>\n",
       "    <tr>\n",
       "      <th>1606</th>\n",
       "      <td>57</td>\n",
       "      <td>46</td>\n",
       "    </tr>\n",
       "    <tr>\n",
       "      <th>1607</th>\n",
       "      <td>59</td>\n",
       "      <td>57</td>\n",
       "    </tr>\n",
       "    <tr>\n",
       "      <th>1608</th>\n",
       "      <td>40</td>\n",
       "      <td>48</td>\n",
       "    </tr>\n",
       "    <tr>\n",
       "      <th>1609</th>\n",
       "      <td>58</td>\n",
       "      <td>40</td>\n",
       "    </tr>\n",
       "    <tr>\n",
       "      <th>1610</th>\n",
       "      <td>19944</td>\n",
       "      <td>4</td>\n",
       "    </tr>\n",
       "  </tbody>\n",
       "</table>\n",
       "</div>"
      ],
      "text/plain": [
       "      Sentiments  negSent\n",
       "Time                     \n",
       "1606          57       46\n",
       "1607          59       57\n",
       "1608          40       48\n",
       "1609          58       40\n",
       "1610       19944        4"
      ]
     },
     "execution_count": 24,
     "metadata": {},
     "output_type": "execute_result"
    }
   ],
   "source": [
    "dfgroup[dfgroup.index > 1605].head()"
   ]
  },
  {
   "cell_type": "code",
   "execution_count": 61,
   "metadata": {
    "collapsed": false
   },
   "outputs": [],
   "source": [
    "df2 = pd.DataFrame()\n",
    "df2['Positive'] = df['Time']*df['Sentiments']\n",
    "df2['Negative'] = df['Time']*df['negSent']"
   ]
  },
  {
   "cell_type": "code",
   "execution_count": 64,
   "metadata": {
    "collapsed": false
   },
   "outputs": [
    {
     "data": {
      "text/html": [
       "<div>\n",
       "<table border=\"1\" class=\"dataframe\">\n",
       "  <thead>\n",
       "    <tr style=\"text-align: right;\">\n",
       "      <th></th>\n",
       "      <th>Positive</th>\n",
       "      <th>Negative</th>\n",
       "    </tr>\n",
       "  </thead>\n",
       "  <tbody>\n",
       "    <tr>\n",
       "      <th>0</th>\n",
       "      <td>0</td>\n",
       "      <td>1333</td>\n",
       "    </tr>\n",
       "    <tr>\n",
       "      <th>1</th>\n",
       "      <td>0</td>\n",
       "      <td>1333</td>\n",
       "    </tr>\n",
       "    <tr>\n",
       "      <th>2</th>\n",
       "      <td>0</td>\n",
       "      <td>1333</td>\n",
       "    </tr>\n",
       "    <tr>\n",
       "      <th>3</th>\n",
       "      <td>1333</td>\n",
       "      <td>0</td>\n",
       "    </tr>\n",
       "    <tr>\n",
       "      <th>4</th>\n",
       "      <td>0</td>\n",
       "      <td>1334</td>\n",
       "    </tr>\n",
       "  </tbody>\n",
       "</table>\n",
       "</div>"
      ],
      "text/plain": [
       "   Positive  Negative\n",
       "0         0      1333\n",
       "1         0      1333\n",
       "2         0      1333\n",
       "3      1333         0\n",
       "4         0      1334"
      ]
     },
     "execution_count": 64,
     "metadata": {},
     "output_type": "execute_result"
    }
   ],
   "source": [
    "df2.head()"
   ]
  },
  {
   "cell_type": "code",
   "execution_count": 68,
   "metadata": {
    "collapsed": false
   },
   "outputs": [
    {
     "data": {
      "text/plain": [
       "<matplotlib.axes._subplots.AxesSubplot at 0x406952b0>"
      ]
     },
     "execution_count": 68,
     "metadata": {},
     "output_type": "execute_result"
    },
    {
     "data": {
      "image/png": "[encoded data removed]",
      "text/plain": [
       "<matplotlib.figure.Figure at 0x3fe61f28>"
      ]
     },
     "metadata": {},
     "output_type": "display_data"
    }
   ],
   "source": [
    "df2.plot.hist(bins=60,stacked=True,xlim=(1300,1609))"
   ]
  },
  {
   "cell_type": "code",
   "execution_count": 57,
   "metadata": {
    "collapsed": false
   },
   "outputs": [
    {
     "data": {
      "text/plain": [
       "numpy.int64"
      ]
     },
     "execution_count": 57,
     "metadata": {},
     "output_type": "execute_result"
    }
   ],
   "source": [
    "dfgroup.index[0]"
   ]
  },
  {
   "cell_type": "code",
   "execution_count": null,
   "metadata": {
    "collapsed": true
   },
   "outputs": [],
   "source": []
  }
 ],
 "metadata": {
  "kernelspec": {
   "display_name": "Python 2",
   "language": "python",
   "name": "python2"
  },
  "language_info": {
   "codemirror_mode": {
    "name": "ipython",
    "version": 2
   },
   "file_extension": ".py",
   "mimetype": "text/x-python",
   "name": "python",
   "nbconvert_exporter": "python",
   "pygments_lexer": "ipython2",
   "version": "2.7.9"
  }
 },
 "nbformat": 4,
 "nbformat_minor": 0
}
